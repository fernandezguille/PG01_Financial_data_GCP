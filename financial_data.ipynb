{
  "cells": [
    {
      "cell_type": "code",
      "execution_count": 12,
      "metadata": {
        "id": "sRISs0cH-l50"
      },
      "outputs": [],
      "source": [
        "# librería para descargar con yahoo finance\n",
        "import yfinance as yf\n",
        "# librería para manipular dataframes\n",
        "import pandas as pd\n",
        "# librería para manipular fechas\n",
        "import datetime as dt\n",
        "# librería para conectar a Google Cloud Platform\n",
        "from google.cloud import storage"
      ]
    },
    {
      "cell_type": "code",
      "execution_count": 13,
      "metadata": {
        "id": "u-QUSDyEJWPs"
      },
      "outputs": [],
      "source": [
        "# Diccionario con las empresas de las que se traen los datos\n",
        "dict_Empresas = {\n",
        "    \"Apple\": \"AAPL\",\n",
        "    \"Microsoft\": \"MSFT\",\n",
        "    \"Meta\": \"META\",\n",
        "    \"Tesla\": \"TSLA\",\n",
        "\n",
        "    # Algunas sugerencias:\n",
        "    \n",
        "    #\"Alphabet\": \"GOOGL\",\n",
        "    #\"Amazon\": \"AMZN\",\n",
        "    #\"JPMorgan\": \"JPM\",\n",
        "    #\"Johnson & Johnson\": \"JNJ\",\n",
        "    #\"Walmart\": \"WMT\"\n",
        "    }"
      ]
    },
    {
      "cell_type": "code",
      "execution_count": 14,
      "metadata": {},
      "outputs": [],
      "source": [
        "# Conexión con la plataforma de Google\n",
        "storage_client = storage.Client.from_service_account_json(r'clave_consultora.json')\n",
        "\n",
        "# Conexión con el bucket\n",
        "bucket = storage_client.get_bucket('entrada')"
      ]
    },
    {
      "cell_type": "code",
      "execution_count": 15,
      "metadata": {
        "colab": {
          "base_uri": "https://localhost:8080/"
        },
        "id": "rCNArHJtENTV",
        "outputId": "c72252b4-7b41-4acf-d3e1-d34d088c0719"
      },
      "outputs": [
        {
          "name": "stdout",
          "output_type": "stream",
          "text": [
            "[*********************100%***********************]  1 of 1 completed\n",
            "Archivo Apple cargado exitosamente.\n",
            "[*********************100%***********************]  1 of 1 completed\n",
            "Archivo Microsoft cargado exitosamente.\n",
            "[*********************100%***********************]  1 of 1 completed\n",
            "Archivo Meta cargado exitosamente.\n",
            "[*********************100%***********************]  1 of 1 completed\n",
            "Archivo Tesla cargado exitosamente.\n"
          ]
        }
      ],
      "source": [
        "# Mediante un bucle, se toman los datos de cada empresa y se guardan en la carpeta Datasets\n",
        "# Cada key es el nombre de la empresa, y value es la abreviación para tomar los datos desde finance\n",
        "for key, value in dict_Empresas.items():\n",
        "    # Se descargan los datos desde 01/01/23 hasta hoy\n",
        "    Dataset = yf.download(value, start = dt.date(2023,1,1), end = dt.date.today())\n",
        "\n",
        "    # Se guardan en un archivo con el nombre de la empresa\n",
        "    Dataset.to_csv(f\"Datasets/{key}.csv\")\n",
        "\n",
        "    # Ruta y archivo dentro del bucket donde se van a subir el dataset\n",
        "    blob = bucket.blob(f'{key}.csv')\n",
        "    \n",
        "    # Ruta de donde se lee el archivo para enviar\n",
        "    blob.upload_from_filename(f\"Datasets/{key}.csv\")\n",
        "\n",
        "    # Se imprime en pantalla un mensaje de confirmacion\n",
        "    print(f\"Archivo {key} cargado exitosamente.\")"
      ]
    }
  ],
  "metadata": {
    "colab": {
      "provenance": []
    },
    "kernelspec": {
      "display_name": "Python 3",
      "language": "python",
      "name": "python3"
    },
    "language_info": {
      "codemirror_mode": {
        "name": "ipython",
        "version": 3
      },
      "file_extension": ".py",
      "mimetype": "text/x-python",
      "name": "python",
      "nbconvert_exporter": "python",
      "pygments_lexer": "ipython3",
      "version": "3.10.5"
    },
    "vscode": {
      "interpreter": {
        "hash": "8030d4c8b54922542ddcca872d6eaa3b90843e3fd85d80bb02c262de6532e63b"
      }
    }
  },
  "nbformat": 4,
  "nbformat_minor": 0
}
